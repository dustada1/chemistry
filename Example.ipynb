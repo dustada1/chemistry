{
 "cells": [
  {
   "cell_type": "code",
   "execution_count": 4,
   "id": "e930c92a-ca68-415d-8e59-45c0cccecf33",
   "metadata": {},
   "outputs": [],
   "source": [
    "from rdkit import Chem"
   ]
  },
  {
   "cell_type": "code",
   "execution_count": 9,
   "id": "881909d7-4548-43f6-991e-8c115cf09bde",
   "metadata": {},
   "outputs": [
    {
     "data": {
      "image/png": "[encoded data removed]",
      "text/plain": [
       "<rdkit.Chem.rdChemReactions.ChemicalReaction at 0x116e12e30>"
      ]
     },
     "execution_count": 9,
     "metadata": {},
     "output_type": "execute_result"
    }
   ],
   "source": [
    "rxn = Chem.rdChemReactions.ReactionFromSmarts('[CX3:1](=[O:2])[OX2H1,C1].[NX3;H2,H1;!$(N-C=[O,N,S]):3]>>[C:1](=[O:2])[N:3]')\n",
    "rxn"
   ]
  },
  {
   "cell_type": "code",
   "execution_count": 14,
   "id": "54402bc5-5280-4923-a9f2-2ed97bf22406",
   "metadata": {},
   "outputs": [],
   "source": [
    "amine_bb = 'NCc1ccccc1'\n",
    "amine_mol = Chem.MolFromSmiles(amine_bb)\n",
    "acid_bb = 'O=C(O)C1CCCC1'\n",
    "acid_mol = Chem.MolFromSmiles(acid_bb)\n"
   ]
  },
  {
   "cell_type": "code",
   "execution_count": 18,
   "id": "14d430cb-4d9a-49dc-85ab-cd252c6fd927",
   "metadata": {},
   "outputs": [
    {
     "name": "stdout",
     "output_type": "stream",
     "text": [
      "1\n"
     ]
    }
   ],
   "source": [
    "products = rxn.RunReactants((acid_mol,amine_mol))\n",
    "print(len(products))"
   ]
  },
  {
   "cell_type": "code",
   "execution_count": 21,
   "id": "ca2cffef-afca-4906-8cdd-1fba96b7ef36",
   "metadata": {},
   "outputs": [],
   "source": [
    "product = products[0][0]"
   ]
  },
  {
   "cell_type": "code",
   "execution_count": 22,
   "id": "519547a6-63c0-4fdd-ab50-3a96af9a106d",
   "metadata": {},
   "outputs": [
    {
     "data": {
      "image/png": "[encoded data removed]",
      "text/plain": [
       "<rdkit.Chem.rdchem.Mol at 0x116e12340>"
      ]
     },
     "execution_count": 22,
     "metadata": {},
     "output_type": "execute_result"
    }
   ],
   "source": [
    "product"
   ]
  },
  {
   "cell_type": "code",
   "execution_count": 24,
   "id": "60a0ec77-3244-48b1-a687-b00bcedc8b98",
   "metadata": {},
   "outputs": [],
   "source": [
    "product.SetProp('_Name', 'Amide_1')"
   ]
  },
  {
   "cell_type": "code",
   "execution_count": 29,
   "id": "5a845b0d-da68-4826-abc7-49061e06f420",
   "metadata": {},
   "outputs": [
    {
     "data": {
      "text/plain": [
       "\u001b[31mSignature:\u001b[39m\n",
       "Chem.Draw.MolToImage(\n",
       "    mol,\n",
       "    size=(\u001b[32m300\u001b[39m, \u001b[32m300\u001b[39m),\n",
       "    kekulize=\u001b[38;5;28;01mTrue\u001b[39;00m,\n",
       "    wedgeBonds=\u001b[38;5;28;01mTrue\u001b[39;00m,\n",
       "    fitImage=\u001b[38;5;28;01mFalse\u001b[39;00m,\n",
       "    options=\u001b[38;5;28;01mNone\u001b[39;00m,\n",
       "    **kwargs,\n",
       ")\n",
       "\u001b[31mDocstring:\u001b[39m\n",
       "Returns a PIL image containing a drawing of the molecule\n",
       "\n",
       "ARGUMENTS:\n",
       "\n",
       "  - kekulize: run kekulization routine on input `mol` (default True)\n",
       "\n",
       "  - size: final image size, in pixel (default (300,300))\n",
       "\n",
       "  - wedgeBonds: draw wedge (stereo) bonds (default True)\n",
       "\n",
       "  - highlightAtoms: list of atoms to highlight (default [])\n",
       "\n",
       "  - highlightBonds: list of bonds to highlight (default [])\n",
       "\n",
       "  - highlightColor: RGB color as tuple (default [1, 0, 0])\n",
       "\n",
       "NOTE:\n",
       "\n",
       "      use 'matplotlib.colors.to_rgb()' to convert string and\n",
       "      HTML color codes into the RGB tuple representation, eg.\n",
       "\n",
       "        from matplotlib.colors import ColorConverter\n",
       "        img = Draw.MolToImage(m, highlightAtoms=[1,2], highlightColor=ColorConverter().to_rgb('aqua'))\n",
       "        img.save(\"molecule.png\")\n",
       "\n",
       "RETURNS:\n",
       "\n",
       "  a PIL Image object\n",
       "\u001b[31mFile:\u001b[39m      /opt/anaconda3/envs/chemistry/lib/python3.12/site-packages/rdkit/Chem/Draw/__init__.py\n",
       "\u001b[31mType:\u001b[39m      function"
      ]
     },
     "metadata": {},
     "output_type": "display_data"
    }
   ],
   "source": [
    "Chem.Draw.MolTo"
   ]
  },
  {
   "cell_type": "code",
   "execution_count": null,
   "id": "faecdf39-6faa-4eda-9200-2bb690b13476",
   "metadata": {},
   "outputs": [],
   "source": []
  }
 ],
 "metadata": {
  "kernelspec": {
   "display_name": "Python 3 (ipykernel)",
   "language": "python",
   "name": "python3"
  },
  "language_info": {
   "codemirror_mode": {
    "name": "ipython",
    "version": 3
   },
   "file_extension": ".py",
   "mimetype": "text/x-python",
   "name": "python",
   "nbconvert_exporter": "python",
   "pygments_lexer": "ipython3",
   "version": "3.12.10"
  }
 },
 "nbformat": 4,
 "nbformat_minor": 5
}
